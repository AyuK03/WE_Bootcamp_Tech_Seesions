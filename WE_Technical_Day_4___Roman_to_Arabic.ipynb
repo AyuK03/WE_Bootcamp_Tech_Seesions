{
  "nbformat": 4,
  "nbformat_minor": 0,
  "metadata": {
    "colab": {
      "provenance": [],
      "authorship_tag": "ABX9TyPo0/QgFRY2XrCrQd+djlEs",
      "include_colab_link": true
    },
    "kernelspec": {
      "name": "python3",
      "display_name": "Python 3"
    },
    "language_info": {
      "name": "python"
    }
  },
  "cells": [
    {
      "cell_type": "markdown",
      "metadata": {
        "id": "view-in-github",
        "colab_type": "text"
      },
      "source": [
        "<a href=\"https://colab.research.google.com/github/AyuK03/WE_Bootcamp_Tech_Seesions/blob/main/WE_Technical_Day_4___Roman_to_Arabic.ipynb\" target=\"_parent\"><img src=\"https://colab.research.google.com/assets/colab-badge.svg\" alt=\"Open In Colab\"/></a>"
      ]
    },
    {
      "cell_type": "code",
      "source": [
        "# Index can't be used "
      ],
      "metadata": {
        "id": "CuX-j4AiMK7E"
      },
      "execution_count": null,
      "outputs": []
    },
    {
      "cell_type": "code",
      "source": [
        "s = \"abcdeodfd\""
      ],
      "metadata": {
        "id": "HK1Kvjw-eTKm"
      },
      "execution_count": 1,
      "outputs": []
    },
    {
      "cell_type": "code",
      "source": [
        "s.index(\"d\")"
      ],
      "metadata": {
        "colab": {
          "base_uri": "https://localhost:8080/"
        },
        "id": "ra5IjxObeXAr",
        "outputId": "7ee35351-48a6-4b0d-cdf7-d93bc6130129"
      },
      "execution_count": 2,
      "outputs": [
        {
          "output_type": "execute_result",
          "data": {
            "text/plain": [
              "3"
            ]
          },
          "metadata": {},
          "execution_count": 2
        }
      ]
    },
    {
      "cell_type": "code",
      "execution_count": 74,
      "metadata": {
        "id": "OUlUObFa5FcR"
      },
      "outputs": [],
      "source": [
        "def alternate_case(word: str)-> str:\n",
        "\n",
        "\n",
        "    cased_word = [ letter.lower() if word.index(letter) % 2 == 0 else letter for letter in word ]\n",
        "\n",
        "    return \"\".join(cased_word)\n",
        "\n"
      ]
    },
    {
      "cell_type": "code",
      "source": [
        "alternate_case(\"eesgeht\")"
      ],
      "metadata": {
        "id": "n4j1sUaR-Xpn"
      },
      "execution_count": null,
      "outputs": []
    },
    {
      "cell_type": "code",
      "source": [
        "# No need to declare a variable like cased_word as it is being used only once and thus no need to explicitly define a variable\n",
        "\n",
        "def alternate_case(word: str)-> str:\n",
        "\n",
        "\n",
        "    cased_word = [ x.lower() if pos % 2 == 0 else x.upper() for pos, x in enumerate(word)]\n",
        "\n",
        "    return \"\".join(cased_word)"
      ],
      "metadata": {
        "id": "s-ZCHMmoH4tc"
      },
      "execution_count": 47,
      "outputs": []
    },
    {
      "cell_type": "code",
      "source": [
        "alternate_case(\"e esgeht\")"
      ],
      "metadata": {
        "colab": {
          "base_uri": "https://localhost:8080/",
          "height": 36
        },
        "id": "sJ9FSnpbIUuz",
        "outputId": "6b7a105a-ee0e-4f89-feb9-971b6b405587"
      },
      "execution_count": 46,
      "outputs": [
        {
          "output_type": "execute_result",
          "data": {
            "text/plain": [
              "'e eSgEhT'"
            ],
            "application/vnd.google.colaboratory.intrinsic+json": {
              "type": "string"
            }
          },
          "metadata": {},
          "execution_count": 46
        }
      ]
    },
    {
      "cell_type": "code",
      "source": [
        "print(list(enumerate(\"hello\")))"
      ],
      "metadata": {
        "colab": {
          "base_uri": "https://localhost:8080/"
        },
        "id": "L742zhsKJ1Yg",
        "outputId": "b465c21c-db22-41b8-873f-44b8872eb730"
      },
      "execution_count": 49,
      "outputs": [
        {
          "output_type": "stream",
          "name": "stdout",
          "text": [
            "[(0, 'h'), (1, 'e'), (2, 'l'), (3, 'l'), (4, 'o')]\n"
          ]
        }
      ]
    },
    {
      "cell_type": "code",
      "source": [
        "def alternate_case(word: str)-> str:\n",
        "\n",
        "    return \"\".join([ x.lower() if pos % 2 == 0 else x.upper() for pos, x in enumerate(word)])"
      ],
      "metadata": {
        "id": "fFZA9pqMKVeu"
      },
      "execution_count": 56,
      "outputs": []
    },
    {
      "cell_type": "code",
      "source": [
        "alternate_case(\"e esgeht\")"
      ],
      "metadata": {
        "colab": {
          "base_uri": "https://localhost:8080/",
          "height": 36
        },
        "id": "9StLhc4QbxCa",
        "outputId": "4eb3bf3a-2bd8-4189-9a84-ccf54d1c8659"
      },
      "execution_count": 57,
      "outputs": [
        {
          "output_type": "execute_result",
          "data": {
            "text/plain": [
              "'e eSgEhT'"
            ],
            "application/vnd.google.colaboratory.intrinsic+json": {
              "type": "string"
            }
          },
          "metadata": {},
          "execution_count": 57
        }
      ]
    },
    {
      "cell_type": "markdown",
      "source": [
        "#Asokan's different methods for alternate cases Qn"
      ],
      "metadata": {
        "id": "V3pq7sCJle0j"
      }
    },
    {
      "cell_type": "markdown",
      "source": [
        "Qn. How can we improve the code ?\n",
        "\n",
        "```\n",
        "def myfunc(a):\n",
        "    empty=[]\n",
        "    for i in range(len(a)):\n",
        "        if i%2==0:\n",
        "            empty.append(a[i].upper())\n",
        "        else:\n",
        "            empty.append(a[i].lower())\n",
        "\n",
        "    return \"\".join(empty)\n",
        "\n",
        "```\n"
      ],
      "metadata": {
        "id": "-lN8rVprftWd"
      }
    },
    {
      "cell_type": "markdown",
      "source": [
        "#**We can improve by :**\n",
        "\n",
        "1.   By naming variables and functions properly\n",
        "\n",
        "2.   By not using range(**len**(<list>) type of code : Not efficient  -> instead use enumerate or simple : in range(<list>) >>>>>>>> AVOID len()\n",
        "\n",
        "3. Avoid changing the original data set -> This is the core of functional programming.\n",
        "\n"
      ],
      "metadata": {
        "id": "juWzJpYohNeR"
      }
    },
    {
      "cell_type": "code",
      "source": [
        "def alt_caseA(a: str) -> str:\n",
        "    altered = []\n",
        "    for pos, ch in enumerate(a):\n",
        "        if pos % 2 == 0:\n",
        "            altered.append(ch.upper())\n",
        "        else:\n",
        "            altered.append(ch.lower())\n",
        "    return ''.join(altered)"
      ],
      "metadata": {
        "id": "-aper_gHfdVR"
      },
      "execution_count": null,
      "outputs": []
    },
    {
      "cell_type": "code",
      "source": [
        "def alt_caseB(a: str) -> str:\n",
        "    altered = []\n",
        "    for pos, ch in enumerate(a):\n",
        "        new_ch = ch.upper() if pos % 2 == 0 else ch.lower()\n",
        "        altered.append(new_ch)\n",
        "    return ''.join(altered)"
      ],
      "metadata": {
        "id": "9JUCC7f0fmi2"
      },
      "execution_count": null,
      "outputs": []
    },
    {
      "cell_type": "code",
      "source": [
        "def alt_caseC(a: str) -> str:\n",
        "    return ''.join([ch.upper() if pos % 2 == 0 else ch.lower()\n",
        "                    for pos, ch in enumerate(a)])"
      ],
      "metadata": {
        "id": "XU0AKd0RiIX8"
      },
      "execution_count": null,
      "outputs": []
    },
    {
      "cell_type": "code",
      "source": [
        "def alt_caseD(a: str) -> str:\n",
        "    change = [str.upper, str.lower]\n",
        "    return ''.join([change[pos%2](ch) for pos, ch in enumerate(a)]) "
      ],
      "metadata": {
        "id": "zk1ZkMqZiX63"
      },
      "execution_count": null,
      "outputs": []
    },
    {
      "cell_type": "code",
      "source": [
        "u = str.upper # 'aTaQ'"
      ],
      "metadata": {
        "id": "WVMdzH-KicGh"
      },
      "execution_count": 3,
      "outputs": []
    },
    {
      "cell_type": "code",
      "source": [
        "u('a')"
      ],
      "metadata": {
        "colab": {
          "base_uri": "https://localhost:8080/",
          "height": 36
        },
        "id": "wKg8HH6CjZ6s",
        "outputId": "f7e91ca9-08bd-4353-e9d5-f46c4bfa680f"
      },
      "execution_count": 4,
      "outputs": [
        {
          "output_type": "execute_result",
          "data": {
            "text/plain": [
              "'A'"
            ],
            "application/vnd.google.colaboratory.intrinsic+json": {
              "type": "string"
            }
          },
          "metadata": {},
          "execution_count": 4
        }
      ]
    },
    {
      "cell_type": "code",
      "source": [
        "# ---------------------#\n",
        "# OPTIONAL! OPTIONAL!! #\n",
        "# ---------------------#\n",
        "\n",
        "def alt_caseE(a: str) -> str:\n",
        "    fs = [str.upper, str.lower] * len(a)\n",
        "    return ''.join([f(ch) for f, ch in zip(fs, a)])"
      ],
      "metadata": {
        "id": "SsYeqilAje4U"
      },
      "execution_count": null,
      "outputs": []
    },
    {
      "cell_type": "code",
      "source": [],
      "metadata": {
        "id": "Dm_jqa4Gjnta"
      },
      "execution_count": null,
      "outputs": []
    },
    {
      "cell_type": "code",
      "source": [
        "u = \"Hello\"\n",
        "v = \"world\"\n",
        "print(list(zip(u, v)))"
      ],
      "metadata": {
        "colab": {
          "base_uri": "https://localhost:8080/"
        },
        "id": "rr3dQ8My4U7N",
        "outputId": "f58b3c84-45e6-4d43-e1d8-3f3f124b6560"
      },
      "execution_count": 68,
      "outputs": [
        {
          "output_type": "stream",
          "name": "stdout",
          "text": [
            "[('H', 'w'), ('e', 'o'), ('l', 'r'), ('l', 'l'), ('o', 'd')]\n"
          ]
        }
      ]
    },
    {
      "cell_type": "code",
      "source": [
        "a = \"Hello\"\n",
        "fs = [str.upper, str.lower] * len(a)\n",
        "\n",
        "# print(fs)\n",
        "# We are 1st extending list fs to such a length such that each element \n",
        "# in a can be mapped with each functional string in fs\n",
        "\n",
        "print(''.join([f(ch) for f, ch in zip(fs, a)]))"
      ],
      "metadata": {
        "colab": {
          "base_uri": "https://localhost:8080/"
        },
        "id": "hIN0ucQp9XRt",
        "outputId": "9381f565-029f-4790-f398-6032a5733bdf"
      },
      "execution_count": 5,
      "outputs": [
        {
          "output_type": "stream",
          "name": "stdout",
          "text": [
            "[<method 'upper' of 'str' objects>, <method 'lower' of 'str' objects>, <method 'upper' of 'str' objects>, <method 'lower' of 'str' objects>, <method 'upper' of 'str' objects>, <method 'lower' of 'str' objects>, <method 'upper' of 'str' objects>, <method 'lower' of 'str' objects>, <method 'upper' of 'str' objects>, <method 'lower' of 'str' objects>]\n",
            "HeLlO\n"
          ]
        }
      ]
    },
    {
      "cell_type": "code",
      "source": [
        "def alt_caseF(a: str) -> str:\n",
        "    u = a[::2].upper() + ' '\n",
        "    l = a[1::2].lower()\n",
        "    return ''.join(''.join(ul) for ul in zip(u, l))[:-1]"
      ],
      "metadata": {
        "id": "Qg5huOJEke77"
      },
      "execution_count": 6,
      "outputs": []
    },
    {
      "cell_type": "code",
      "source": [
        "alt_caseF(\"Golmaal\")"
      ],
      "metadata": {
        "colab": {
          "base_uri": "https://localhost:8080/",
          "height": 36
        },
        "id": "bfCHOU_okpUC",
        "outputId": "82092dad-698d-4a1b-9536-561e9a79ab89"
      },
      "execution_count": 7,
      "outputs": [
        {
          "output_type": "execute_result",
          "data": {
            "text/plain": [
              "'GoLmA'"
            ],
            "application/vnd.google.colaboratory.intrinsic+json": {
              "type": "string"
            }
          },
          "metadata": {},
          "execution_count": 7
        }
      ]
    },
    {
      "cell_type": "code",
      "source": [
        "def alt_caseG(a: str) -> str:\n",
        "    la = list(a)\n",
        "    la[::2] = ''.join(la[::2]).upper()\n",
        "    la[1::2] = ''.join(la[1::2]).lower()\n",
        "    return ''.join(la)"
      ],
      "metadata": {
        "id": "UROBA-w7kfr7"
      },
      "execution_count": 8,
      "outputs": []
    },
    {
      "cell_type": "code",
      "source": [
        "alt_caseG(\"Golmaal\")"
      ],
      "metadata": {
        "colab": {
          "base_uri": "https://localhost:8080/",
          "height": 36
        },
        "id": "ahSJlDM_k_NL",
        "outputId": "fa4cff72-7ef1-4846-d3e1-79a9d832601a"
      },
      "execution_count": 9,
      "outputs": [
        {
          "output_type": "execute_result",
          "data": {
            "text/plain": [
              "'GoLmAaL'"
            ],
            "application/vnd.google.colaboratory.intrinsic+json": {
              "type": "string"
            }
          },
          "metadata": {},
          "execution_count": 9
        }
      ]
    },
    {
      "cell_type": "markdown",
      "source": [
        "# New concept of relation btw string and list "
      ],
      "metadata": {
        "id": "CYRQ-4FdlgSh"
      }
    },
    {
      "cell_type": "code",
      "source": [
        "a = \"abcdefgh\"\n",
        "la = list(a)"
      ],
      "metadata": {
        "id": "cMUi-N4CLfkh"
      },
      "execution_count": 10,
      "outputs": []
    },
    {
      "cell_type": "code",
      "source": [
        "la[::2]"
      ],
      "metadata": {
        "colab": {
          "base_uri": "https://localhost:8080/"
        },
        "outputId": "bd6caabd-782e-4dcc-823e-0f7eea698c2c",
        "id": "pVSF1hvzlo8I"
      },
      "execution_count": 11,
      "outputs": [
        {
          "output_type": "execute_result",
          "data": {
            "text/plain": [
              "['a', 'c', 'e', 'g']"
            ]
          },
          "metadata": {},
          "execution_count": 11
        }
      ]
    },
    {
      "cell_type": "code",
      "source": [
        "la[::2] = \"1234\""
      ],
      "metadata": {
        "id": "hjmoVJE7MsU5"
      },
      "execution_count": null,
      "outputs": []
    },
    {
      "cell_type": "code",
      "source": [
        "la"
      ],
      "metadata": {
        "id": "ntPjsAqtMvp2",
        "outputId": "6bd973b7-9ca3-4048-c14d-73a476753d9a",
        "colab": {
          "base_uri": "https://localhost:8080/"
        }
      },
      "execution_count": null,
      "outputs": [
        {
          "output_type": "execute_result",
          "data": {
            "text/plain": [
              "['1', 'b', '2', 'd', '3', 'f', '4', 'h']"
            ]
          },
          "metadata": {},
          "execution_count": 9
        }
      ]
    },
    {
      "cell_type": "code",
      "source": [
        "a = \"abcdefgh\"\n",
        "la = list(a)\n",
        "la[::2] = ''.join(la[::2]).upper()"
      ],
      "metadata": {
        "id": "0XTBASPQMwIq"
      },
      "execution_count": null,
      "outputs": []
    },
    {
      "cell_type": "code",
      "source": [
        "la"
      ],
      "metadata": {
        "id": "prrUmZnQNFfn",
        "outputId": "60bfb043-7c4d-4745-a986-491d2ea4310f",
        "colab": {
          "base_uri": "https://localhost:8080/"
        }
      },
      "execution_count": null,
      "outputs": [
        {
          "output_type": "execute_result",
          "data": {
            "text/plain": [
              "['A', 'b', 'C', 'd', 'E', 'f', 'G', 'h']"
            ]
          },
          "metadata": {},
          "execution_count": 4
        }
      ]
    },
    {
      "cell_type": "code",
      "source": [
        "a = \"abcdefgh\"\n",
        "la = list(a)\n",
        "la[::2] = ''.join(la[::2]).upper()\n",
        "la[1::2] = ''.join(la[1::2]).lower()\n"
      ],
      "metadata": {
        "id": "VPswKMWFNF7X"
      },
      "execution_count": null,
      "outputs": []
    },
    {
      "cell_type": "code",
      "source": [
        "la"
      ],
      "metadata": {
        "id": "Y3F2HQF_NTmG"
      },
      "execution_count": null,
      "outputs": []
    },
    {
      "cell_type": "code",
      "source": [
        "''.join(la)"
      ],
      "metadata": {
        "id": "wuBgYHutNUHt"
      },
      "execution_count": null,
      "outputs": []
    },
    {
      "cell_type": "markdown",
      "source": [
        "# ROMAN TO ARABIC"
      ],
      "metadata": {
        "id": "yFSwQsieloXs"
      }
    },
    {
      "cell_type": "code",
      "source": [
        "def roman_to_arabic(roman_num: str):\n",
        "\n",
        "    r_symbol = ['I','V','X','L','C','D','M']\n",
        "    r_values = [1, 5, 10, 50, 100, 500, 1000]\n",
        "\n",
        "    d = zip(r_symbol, r_values)\n",
        "\n",
        "    #roman_val = { 'I' : 1, 'V' : 5, 'X' : 10, 'L' : 50, 'C' : 100, 'D' : 500, 'M' : 1000 }\n",
        "\n",
        "    print(d)\n",
        "\n",
        "\n"
      ],
      "metadata": {
        "id": "k2oVTgmRleRq"
      },
      "execution_count": 65,
      "outputs": []
    },
    {
      "cell_type": "code",
      "source": [
        "roman_to_arabic(\"XII\")"
      ],
      "metadata": {
        "colab": {
          "base_uri": "https://localhost:8080/"
        },
        "id": "gstite1Z3w_u",
        "outputId": "52e254a5-d588-4c86-d118-6904d94a2fd9"
      },
      "execution_count": 66,
      "outputs": [
        {
          "output_type": "stream",
          "name": "stdout",
          "text": [
            "<zip object at 0x7f2ece709540>\n"
          ]
        }
      ]
    },
    {
      "cell_type": "markdown",
      "source": [
        "#Asokan's Method for roman-to-numeral"
      ],
      "metadata": {
        "id": "0yD0v8AKmlIC"
      }
    },
    {
      "cell_type": "code",
      "source": [
        "def to_roman(n: int) -> str:\n",
        "    arabic = 1000, 900, 500, 400, 100, 90, 50, 40, 10, 9, 5, 4, 1\n",
        "    romans = \"M\", \"CM\", \"D\", \"CD\", \"C\", \"XC\", \"L\", \"XL\", \"X\", \"IX\", \"V\", \"IV\", \"I\"\n",
        "    a2r = dict(zip(arabic, romans))\n",
        "    roman = ''\n",
        "    for a in arabic:\n",
        "        roman += (n // a) * a2r[a]\n",
        "        n %= a\n",
        "    return roman "
      ],
      "metadata": {
        "id": "IyKYuES4mkat"
      },
      "execution_count": null,
      "outputs": []
    },
    {
      "cell_type": "code",
      "source": [
        "def to_arabic(s: str) -> int:\n",
        "    s = s.upper().replace(\"CM\", \"DCCCC\").replace(\"CD\", \"CCCC\").\\\n",
        "                  replace(\"XC\", \"LXXXX\").replace(\"XL\", \"XXXX\").\\\n",
        "                  replace(\"IX\", \"VIIII\").replace(\"IV\", \"IIII\")\n",
        "    romans = \"MDCLXVI\"\n",
        "    arabic = 1000, 500, 100, 50, 10, 5, 1\n",
        "    r2a = dict(zip(romans, arabic))\n",
        "    return sum([r2a[ch] for ch in s]) "
      ],
      "metadata": {
        "id": "wZTB8OW3-f3g"
      },
      "execution_count": null,
      "outputs": []
    },
    {
      "cell_type": "code",
      "source": [
        "to_roman(3674)"
      ],
      "metadata": {
        "id": "MQmYYywKkFTd"
      },
      "execution_count": null,
      "outputs": []
    },
    {
      "cell_type": "code",
      "source": [
        "to_arabic(to_roman(1256))"
      ],
      "metadata": {
        "id": "nOHaoWdZl_-r"
      },
      "execution_count": null,
      "outputs": []
    },
    {
      "cell_type": "code",
      "source": [
        "to_arabic(\"MCMXX\")"
      ],
      "metadata": {
        "id": "fuOIZWlVmDAe"
      },
      "execution_count": null,
      "outputs": []
    },
    {
      "cell_type": "markdown",
      "source": [
        "# Anagrams revisited"
      ],
      "metadata": {
        "id": "6YjHflAYrpKB"
      }
    },
    {
      "cell_type": "code",
      "source": [
        "words = [\"adds\", \"cloud\", \"asp\", \"dads\", \"hello\", \"sap\", \"could\", \"asp\"]"
      ],
      "metadata": {
        "id": "W2Uzhn-fmGdP"
      },
      "execution_count": null,
      "outputs": []
    },
    {
      "cell_type": "code",
      "source": [
        "sorted(words, key=sorted)"
      ],
      "metadata": {
        "id": "cth_dhVZrZVc"
      },
      "execution_count": null,
      "outputs": []
    },
    {
      "cell_type": "code",
      "source": [
        "from itertools import groupby"
      ],
      "metadata": {
        "id": "IwLqESYireXJ"
      },
      "execution_count": null,
      "outputs": []
    },
    {
      "cell_type": "code",
      "source": [
        "groupby(sorted(words, key=sorted), key=sorted)"
      ],
      "metadata": {
        "id": "tBWgw28TsXhe"
      },
      "execution_count": null,
      "outputs": []
    },
    {
      "cell_type": "code",
      "source": [
        "for a, b in groupby(sorted(words, key=sorted), key=sorted):\n",
        "    print(a, b)"
      ],
      "metadata": {
        "id": "uEjCJl03tJhe"
      },
      "execution_count": null,
      "outputs": []
    },
    {
      "cell_type": "code",
      "source": [
        "for a, b in groupby(sorted(words, key=sorted), key=sorted):\n",
        "    print(a, list(b))"
      ],
      "metadata": {
        "id": "xvojq22WtWdG"
      },
      "execution_count": null,
      "outputs": []
    },
    {
      "cell_type": "code",
      "source": [
        "groups = [list(b) for a, b in groupby(sorted(words, key=sorted), key=sorted)]\n",
        "print([_ for _ in groups if len(_) > 1])"
      ],
      "metadata": {
        "id": "ICML8WXksy2C"
      },
      "execution_count": null,
      "outputs": []
    }
  ]
}